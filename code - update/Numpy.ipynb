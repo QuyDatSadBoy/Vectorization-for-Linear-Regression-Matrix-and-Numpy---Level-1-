{
 "cells": [
  {
   "cell_type": "markdown",
   "metadata": {},
   "source": [
    "### Create an array"
   ]
  },
  {
   "cell_type": "code",
   "execution_count": null,
   "metadata": {},
   "outputs": [],
   "source": [
    "# tạo ndarray từ list\n",
    "\n",
    "import numpy as np\n",
    "\n",
    "# tạo list \n",
    "l = list(range(1, 4))\n",
    "\n",
    "# tạo ndarray\n",
    "data = np.array(l)\n",
    "\n",
    "print(data)\n",
    "print(data[0])\n",
    "print(data[1])"
   ]
  },
  {
   "cell_type": "code",
   "execution_count": null,
   "metadata": {},
   "outputs": [],
   "source": []
  },
  {
   "cell_type": "code",
   "execution_count": null,
   "metadata": {},
   "outputs": [],
   "source": [
    "# tạo ndarray từ list\n",
    "\n",
    "import numpy as np\n",
    "\n",
    "# tạo ndarray\n",
    "data1 = np.array([1,2,3])\n",
    "print(data1.dtype)\n",
    "\n",
    "data2 = np.array([1.,2.,3.])\n",
    "print(data2.dtype)\n",
    "\n",
    "data3 = np.array([1,2,3], dtype=np.int64)\n",
    "print(data3.dtype)"
   ]
  },
  {
   "cell_type": "code",
   "execution_count": null,
   "metadata": {},
   "outputs": [],
   "source": []
  },
  {
   "cell_type": "code",
   "execution_count": null,
   "metadata": {},
   "outputs": [],
   "source": [
    "# tạo ndarray từ list\n",
    "\n",
    "import numpy as np\n",
    "\n",
    "# tạo list \n",
    "list1D = [1,2,3]\n",
    "\n",
    "# tạo ndarray\n",
    "data = np.array(list1D)\n",
    "\n",
    "print(data)\n",
    "print(data.shape)"
   ]
  },
  {
   "cell_type": "code",
   "execution_count": null,
   "metadata": {},
   "outputs": [],
   "source": []
  },
  {
   "cell_type": "code",
   "execution_count": null,
   "metadata": {},
   "outputs": [],
   "source": [
    "# tạo ndarray từ list\n",
    "\n",
    "import numpy as np\n",
    "\n",
    "# tạo list \n",
    "list2D = [[1,2],[3,4],[5,6]]\n",
    "\n",
    "# tạo ndarray\n",
    "data = np.array(list2D)\n",
    "\n",
    "print(data)\n",
    "print(data.shape)"
   ]
  },
  {
   "cell_type": "code",
   "execution_count": null,
   "metadata": {},
   "outputs": [],
   "source": []
  },
  {
   "cell_type": "code",
   "execution_count": 16,
   "metadata": {},
   "outputs": [
    {
     "name": "stdout",
     "output_type": "stream",
     "text": [
      "data\n",
      " [[1 2 3]\n",
      " [4 5 6]]\n",
      "data shape\n",
      " (2, 3)\n",
      "data_rs\n",
      " [[1 2]\n",
      " [3 4]\n",
      " [5 6]]\n",
      "data_rs shape\n",
      " (3, 2)\n"
     ]
    }
   ],
   "source": [
    "import numpy as np\n",
    "\n",
    "# tạo list \n",
    "l = [[1,2,3],\n",
    "     [4,5,6]]\n",
    "\n",
    "# tạo ndarray\n",
    "data = np.array(l)\n",
    "print('data\\n', data)\n",
    "print('data shape\\n', data.shape)\n",
    "\n",
    "# reshape\n",
    "data_rs = np.reshape(data, (3,2))\n",
    "print('data_rs\\n', data_rs)\n",
    "print('data_rs shape\\n', data_rs.shape)"
   ]
  },
  {
   "cell_type": "code",
   "execution_count": null,
   "metadata": {},
   "outputs": [],
   "source": []
  },
  {
   "cell_type": "code",
   "execution_count": null,
   "metadata": {},
   "outputs": [],
   "source": [
    "# aivietnam.ai\n",
    "# tạo ndarray từ list\n",
    "\n",
    "import numpy as np\n",
    "\n",
    "# tạo list \n",
    "l = list(range(1, 4))\n",
    "\n",
    "# tạo ndarray\n",
    "data = np.array([l,l])\n",
    "\n",
    "print(data)\n",
    "print(type(data))\n",
    "print(type(data[0]))\n",
    "print(type(data.shape))\n",
    "print(type(data.ndim))\n",
    "print(data.shape)\n",
    "print(data.ndim)"
   ]
  },
  {
   "attachments": {
    "chap5_np_1.png": {
     "image/png": "[encoded data removed]"
    }
   },
   "cell_type": "markdown",
   "metadata": {},
   "source": [
    "![chap5_np_1.png](attachment:chap5_np_1.png)"
   ]
  },
  {
   "cell_type": "code",
   "execution_count": null,
   "metadata": {},
   "outputs": [],
   "source": []
  },
  {
   "cell_type": "code",
   "execution_count": 1,
   "metadata": {},
   "outputs": [
    {
     "name": "stdout",
     "output_type": "stream",
     "text": [
      "[1 2 3]\n",
      "[8 2 3]\n",
      "[1, 2, 3]\n"
     ]
    }
   ],
   "source": [
    "# thay đổi giá trị phần tử\n",
    "\n",
    "import numpy as np\n",
    "\n",
    "# tạo list \n",
    "l = list(range(1, 4))\n",
    "\n",
    "# tạo ndarray\n",
    "data = np.array(l)\n",
    "print(data)\n",
    "\n",
    "data[0] = 8\n",
    "print(data)\n",
    "print(l)"
   ]
  },
  {
   "attachments": {
    "chap5_np_2.png": {
     "image/png": "[encoded data removed]"
    }
   },
   "cell_type": "markdown",
   "metadata": {},
   "source": [
    "![chap5_np_2.png](attachment:chap5_np_2.png)"
   ]
  },
  {
   "cell_type": "code",
   "execution_count": null,
   "metadata": {},
   "outputs": [],
   "source": []
  },
  {
   "cell_type": "markdown",
   "metadata": {},
   "source": [
    "### Hàm khởi tạo mảng"
   ]
  },
  {
   "cell_type": "code",
   "execution_count": null,
   "metadata": {},
   "outputs": [],
   "source": [
    "# Tạo một numpy array \n",
    "# với tất cả phẩn tử là 0\n",
    "\n",
    "import numpy as np\n",
    "\n",
    "# shape: 2 dòng, 3 cột\n",
    "arr = np.zeros((2,3))  \n",
    "print(arr)  "
   ]
  },
  {
   "attachments": {
    "chap5_np_3.png": {
     "image/png": "[encoded data removed]"
    }
   },
   "cell_type": "markdown",
   "metadata": {},
   "source": [
    "![chap5_np_3.png](attachment:chap5_np_3.png)"
   ]
  },
  {
   "cell_type": "code",
   "execution_count": null,
   "metadata": {},
   "outputs": [],
   "source": []
  },
  {
   "cell_type": "code",
   "execution_count": null,
   "metadata": {},
   "outputs": [],
   "source": [
    "# Tạo một numpy array với \n",
    "# tất cả phẩn tử là 1\n",
    "\n",
    "import numpy as np\n",
    "\n",
    "# numpy.ones(shape)\n",
    "# shape: 2 dòng, 3 cột\n",
    "arr = np.ones((2,3))  \n",
    "print(arr)  "
   ]
  },
  {
   "attachments": {
    "chap5_np_4.png": {
     "image/png": "[encoded data removed]"
    }
   },
   "cell_type": "markdown",
   "metadata": {},
   "source": [
    "![chap5_np_4.png](attachment:chap5_np_4.png)"
   ]
  },
  {
   "cell_type": "code",
   "execution_count": null,
   "metadata": {},
   "outputs": [],
   "source": []
  },
  {
   "cell_type": "code",
   "execution_count": null,
   "metadata": {},
   "outputs": [],
   "source": [
    "# Tạo một numpy array với tất \n",
    "# cả phẩn tử là hằng số fill_value\n",
    "\n",
    "import numpy as np\n",
    "\n",
    "# numpy.full(shape, fill_value)\n",
    "# shape: 2 dòng, 3 cột\n",
    "arr = np.full((2,3), 9)  \n",
    "print(arr)  "
   ]
  },
  {
   "attachments": {
    "chap5_np_5.png": {
     "image/png": "[encoded data removed]"
    }
   },
   "cell_type": "markdown",
   "metadata": {},
   "source": [
    "![chap5_np_5.png](attachment:chap5_np_5.png)"
   ]
  },
  {
   "cell_type": "code",
   "execution_count": null,
   "metadata": {},
   "outputs": [],
   "source": []
  },
  {
   "cell_type": "code",
   "execution_count": null,
   "metadata": {},
   "outputs": [],
   "source": [
    "# Tạo một numpy array với đường chéo là số 1\n",
    "# số 0 được điền vào những ô phần tử còn lại\n",
    "\n",
    "import numpy as np\n",
    "\n",
    "# numpy.eye(N)\n",
    "# shape: 3 dòng, 3 cột\n",
    "arr = np.eye(3)  \n",
    "print(arr)  "
   ]
  },
  {
   "attachments": {
    "chap5_np_6.png": {
     "image/png": "[encoded data removed]"
    }
   },
   "cell_type": "markdown",
   "metadata": {},
   "source": [
    "![chap5_np_6.png](attachment:chap5_np_6.png)"
   ]
  },
  {
   "cell_type": "code",
   "execution_count": null,
   "metadata": {},
   "outputs": [],
   "source": []
  },
  {
   "cell_type": "code",
   "execution_count": null,
   "metadata": {},
   "outputs": [],
   "source": [
    "# Tạo một numpy array với \n",
    "# giá trị ngẫu nhiên\n",
    "\n",
    "import numpy as np\n",
    "\n",
    "# np.random.random(size)\n",
    "# shape: 2 dòng, 3 cột; với \n",
    "# phần tử có giá trị ngẫu nhiên\n",
    "arr = np.random.random((2,3))  \n",
    "print(arr)"
   ]
  },
  {
   "attachments": {
    "chap5_np_7.png": {
     "image/png": "[encoded data removed]"
    }
   },
   "cell_type": "markdown",
   "metadata": {},
   "source": [
    "![chap5_np_7.png](attachment:chap5_np_7.png)"
   ]
  },
  {
   "cell_type": "code",
   "execution_count": null,
   "metadata": {},
   "outputs": [],
   "source": []
  },
  {
   "cell_type": "markdown",
   "metadata": {},
   "source": [
    "### Slicing (1)"
   ]
  },
  {
   "cell_type": "code",
   "execution_count": 6,
   "metadata": {},
   "outputs": [
    {
     "name": "stdout",
     "output_type": "stream",
     "text": [
      "[1 2 3 4 5 6]\n",
      "[3 4 5]\n"
     ]
    }
   ],
   "source": [
    "import numpy as np\n",
    "\n",
    "# tạo ndarray\n",
    "data = np.array(range(1, 7))\n",
    "print(data)\n",
    "\n",
    "output = data[2:5:1]\n",
    "print(output)"
   ]
  },
  {
   "cell_type": "code",
   "execution_count": null,
   "metadata": {},
   "outputs": [],
   "source": []
  },
  {
   "cell_type": "code",
   "execution_count": 7,
   "metadata": {},
   "outputs": [
    {
     "name": "stdout",
     "output_type": "stream",
     "text": [
      "[1 2 3 4 5 6]\n",
      "[6 5 4]\n"
     ]
    }
   ],
   "source": [
    "import numpy as np\n",
    "\n",
    "# tạo ndarray\n",
    "data = np.array(range(1, 7))\n",
    "print(data)\n",
    "\n",
    "output = data[5:2:-1]\n",
    "print(output)"
   ]
  },
  {
   "cell_type": "code",
   "execution_count": null,
   "metadata": {},
   "outputs": [],
   "source": []
  },
  {
   "cell_type": "code",
   "execution_count": 8,
   "metadata": {},
   "outputs": [
    {
     "name": "stdout",
     "output_type": "stream",
     "text": [
      "[1 2 3 4 5 6]\n",
      "[1 2 3 4 5 6]\n"
     ]
    }
   ],
   "source": [
    "import numpy as np\n",
    "\n",
    "# tạo ndarray\n",
    "data = np.array(range(1, 7))\n",
    "print(data)\n",
    "\n",
    "output = data[::1]\n",
    "print(output)"
   ]
  },
  {
   "cell_type": "code",
   "execution_count": null,
   "metadata": {},
   "outputs": [],
   "source": []
  },
  {
   "cell_type": "code",
   "execution_count": 9,
   "metadata": {},
   "outputs": [
    {
     "name": "stdout",
     "output_type": "stream",
     "text": [
      "[1 2 3 4 5 6]\n",
      "[6 5 4 3 2 1]\n"
     ]
    }
   ],
   "source": [
    "import numpy as np\n",
    "\n",
    "# tạo ndarray\n",
    "data = np.array(range(1, 7))\n",
    "print(data)\n",
    "\n",
    "output = data[::-1]\n",
    "print(output)"
   ]
  },
  {
   "cell_type": "code",
   "execution_count": null,
   "metadata": {},
   "outputs": [],
   "source": []
  },
  {
   "cell_type": "code",
   "execution_count": 10,
   "metadata": {},
   "outputs": [
    {
     "name": "stdout",
     "output_type": "stream",
     "text": [
      "[1 2 3 4 5 6]\n",
      "[1 2 3 4 5 6]\n"
     ]
    }
   ],
   "source": [
    "import numpy as np\n",
    "\n",
    "# tạo ndarray\n",
    "data = np.array(range(1, 7))\n",
    "print(data)\n",
    "\n",
    "output = data[:]\n",
    "print(output)"
   ]
  },
  {
   "cell_type": "code",
   "execution_count": null,
   "metadata": {},
   "outputs": [],
   "source": []
  },
  {
   "cell_type": "code",
   "execution_count": 11,
   "metadata": {},
   "outputs": [
    {
     "name": "stdout",
     "output_type": "stream",
     "text": [
      "[1 2 3 4 5 6]\n",
      "[1 2 3]\n"
     ]
    }
   ],
   "source": [
    "import numpy as np\n",
    "\n",
    "# tạo ndarray\n",
    "data = np.array(range(1, 7))\n",
    "print(data)\n",
    "\n",
    "output = data[:3]\n",
    "print(output)"
   ]
  },
  {
   "cell_type": "code",
   "execution_count": null,
   "metadata": {},
   "outputs": [],
   "source": []
  },
  {
   "cell_type": "markdown",
   "metadata": {},
   "source": [
    "### Slicing (2)"
   ]
  },
  {
   "cell_type": "code",
   "execution_count": 12,
   "metadata": {},
   "outputs": [
    {
     "name": "stdout",
     "output_type": "stream",
     "text": [
      "[[1 2]\n",
      " [3 4]\n",
      " [5 6]]\n"
     ]
    }
   ],
   "source": [
    "import numpy as np\n",
    "\n",
    "# tạo ndarray\n",
    "data = np.array(range(1, 7)).reshape((3, 2))\n",
    "print(data)"
   ]
  },
  {
   "cell_type": "code",
   "execution_count": null,
   "metadata": {},
   "outputs": [],
   "source": []
  },
  {
   "cell_type": "code",
   "execution_count": 15,
   "metadata": {},
   "outputs": [
    {
     "name": "stdout",
     "output_type": "stream",
     "text": [
      "[[3 4]\n",
      " [5 6]]\n"
     ]
    }
   ],
   "source": [
    "output = data[1:3]\n",
    "print(output)"
   ]
  },
  {
   "cell_type": "code",
   "execution_count": 16,
   "metadata": {},
   "outputs": [
    {
     "name": "stdout",
     "output_type": "stream",
     "text": [
      "[[3 4]\n",
      " [5 6]]\n"
     ]
    }
   ],
   "source": [
    "output = data[1:3, :]\n",
    "print(output)"
   ]
  },
  {
   "cell_type": "code",
   "execution_count": null,
   "metadata": {},
   "outputs": [],
   "source": []
  },
  {
   "cell_type": "code",
   "execution_count": 18,
   "metadata": {},
   "outputs": [
    {
     "name": "stdout",
     "output_type": "stream",
     "text": [
      "[[1]\n",
      " [3]\n",
      " [5]]\n"
     ]
    }
   ],
   "source": [
    "output = data[:, :1]\n",
    "print(output)"
   ]
  },
  {
   "cell_type": "code",
   "execution_count": null,
   "metadata": {},
   "outputs": [],
   "source": []
  },
  {
   "cell_type": "code",
   "execution_count": 19,
   "metadata": {},
   "outputs": [
    {
     "name": "stdout",
     "output_type": "stream",
     "text": [
      "[2 4 6]\n"
     ]
    }
   ],
   "source": [
    "output = data[:, 1]\n",
    "print(output)"
   ]
  },
  {
   "cell_type": "code",
   "execution_count": null,
   "metadata": {},
   "outputs": [],
   "source": []
  },
  {
   "cell_type": "code",
   "execution_count": null,
   "metadata": {},
   "outputs": [],
   "source": []
  },
  {
   "cell_type": "code",
   "execution_count": null,
   "metadata": {},
   "outputs": [],
   "source": []
  }
 ],
 "metadata": {
  "kernelspec": {
   "display_name": "Python 3 (ipykernel)",
   "language": "python",
   "name": "python3"
  },
  "language_info": {
   "codemirror_mode": {
    "name": "ipython",
    "version": 3
   },
   "file_extension": ".py",
   "mimetype": "text/x-python",
   "name": "python",
   "nbconvert_exporter": "python",
   "pygments_lexer": "ipython3",
   "version": "3.9.13"
  }
 },
 "nbformat": 4,
 "nbformat_minor": 2
}
